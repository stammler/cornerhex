{
 "cells": [
  {
   "cell_type": "markdown",
   "id": "58c6fd68-92e1-4f2b-894c-6e9933ee1086",
   "metadata": {},
   "source": [
    "# Appendix A: Contributing/Bugs/Features"
   ]
  },
  {
   "cell_type": "markdown",
   "id": "7745ded3-5ded-46d8-a87f-55dcf160823c",
   "metadata": {},
   "source": [
    "Before contributing to the software of `cornerhex`, please have a look at the [Contribution Guidlines](https://github.com/stammler/cornerhex/blob/master/.github/CONTRIBUTING.md) and the [Code of Conduct](https://github.com/stammler/cornerhex/blob/master/.github/CODE_OF_CONDUCT.md)."
   ]
  },
  {
   "cell_type": "markdown",
   "id": "fbca4871-113d-4b44-950f-9fd3dd68cad6",
   "metadata": {},
   "source": [
    "## Contributing\n",
    "\n",
    "To contribute code please open a new pull request and describe the changes to the software your pull request introduces.\n",
    "\n",
    "Please note, that additional features must also be described in the documentation."
   ]
  },
  {
   "cell_type": "markdown",
   "id": "3c372b7c-66be-4a4c-94e5-c27ba95a1775",
   "metadata": {},
   "source": [
    "## Bug Reports\n",
    "\n",
    "If you encounter a bug in `cornerhex`, please open a new [bug report issue](https://github.com/stammler/cornerhex/issues/new?template=bug_report.md&title=%5BBUG%5D+Descriptive+title+of+the+bug+report) and describe the bug, the expected behavior, and steps how to reproduce the bug."
   ]
  },
  {
   "cell_type": "markdown",
   "id": "406c7cfe-71a3-4819-9a8f-287a7998463e",
   "metadata": {},
   "source": [
    "## Feature Requests\n",
    "\n",
    "If you have an idea of a new feature, that is missing in `cornerhex`, or if you want to suggest an improvement, please open a new [feature request issue](https://github.com/stammler/cornerhex/issues/new?template=feature_request.md&title=%5BFEATURE%5D+Descriptive+title+of+the+feature+request)."
   ]
  }
 ],
 "metadata": {
  "kernelspec": {
   "display_name": "Python 3 (ipykernel)",
   "language": "python",
   "name": "python3"
  },
  "language_info": {
   "codemirror_mode": {
    "name": "ipython",
    "version": 3
   },
   "file_extension": ".py",
   "mimetype": "text/x-python",
   "name": "python",
   "nbconvert_exporter": "python",
   "pygments_lexer": "ipython3",
   "version": "3.10.8"
  }
 },
 "nbformat": 4,
 "nbformat_minor": 5
}
